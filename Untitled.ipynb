{
 "cells": [
  {
   "cell_type": "code",
   "execution_count": 20,
   "metadata": {},
   "outputs": [],
   "source": [
    "import pandas as pd\n",
    "import numpy as np\n",
    "import os\n",
    "import glob"
   ]
  },
  {
   "cell_type": "code",
   "execution_count": 21,
   "metadata": {},
   "outputs": [],
   "source": [
    "paths = glob.glob(\"Data200/*.txt\")"
   ]
  },
  {
   "cell_type": "code",
   "execution_count": 22,
   "metadata": {},
   "outputs": [],
   "source": [
    "data = []\n",
    "for path in paths :\n",
    "    with open(path) as file:\n",
    "        text = file.read()\n",
    "        #print(text)\n",
    "        num,x_min,y_min,x_max,y_max,label = text.split(\" \")\n",
    "        data.append([path,num,x_min,y_min,x_max,y_max,label])"
   ]
  },
  {
   "cell_type": "code",
   "execution_count": 23,
   "metadata": {},
   "outputs": [],
   "source": [
    "data_frame = pd.DataFrame(data,columns =[\"filename\",\"num\",\"x_min\",\"y_min\",\"x_max\",\"y_max\",\"label\"])"
   ]
  },
  {
   "cell_type": "code",
   "execution_count": 24,
   "metadata": {},
   "outputs": [],
   "source": [
    "data_frame.to_csv(\"data.csv\")"
   ]
  },
  {
   "cell_type": "code",
   "execution_count": 26,
   "metadata": {},
   "outputs": [
    {
     "name": "stdout",
     "output_type": "stream",
     "text": [
      "Collecting tensorflow==1.5\n",
      "  Downloading https://files.pythonhosted.org/packages/dd/6e/c32ea02f33ee47b74f747961f2023c189bed523bbbfdb618c719b3ccb76d/tensorflow-1.5.0-cp35-cp35m-win_amd64.whl (31.1MB)\n",
      "Requirement already satisfied: wheel>=0.26 in c:\\users\\pvdung\\appdata\\local\\continuum\\anaconda3\\lib\\site-packages (from tensorflow==1.5) (0.31.1)\n",
      "Requirement already satisfied: absl-py>=0.1.6 in c:\\users\\pvdung\\appdata\\local\\continuum\\anaconda3\\lib\\site-packages (from tensorflow==1.5) (0.4.0)\n",
      "Requirement already satisfied: protobuf>=3.4.0 in c:\\users\\pvdung\\appdata\\local\\continuum\\anaconda3\\lib\\site-packages (from tensorflow==1.5) (3.6.1)\n",
      "Requirement already satisfied: six>=1.10.0 in c:\\users\\pvdung\\appdata\\local\\continuum\\anaconda3\\lib\\site-packages (from tensorflow==1.5) (1.11.0)\n",
      "Collecting tensorflow-tensorboard<1.6.0,>=1.5.0 (from tensorflow==1.5)\n",
      "  Downloading https://files.pythonhosted.org/packages/cc/fa/91c06952517b4f1bc075545b062a4112e30cebe558a6b962816cb33efa27/tensorflow_tensorboard-1.5.1-py3-none-any.whl (3.0MB)\n",
      "Requirement already satisfied: numpy>=1.12.1 in c:\\users\\pvdung\\appdata\\local\\continuum\\anaconda3\\lib\\site-packages (from tensorflow==1.5) (1.14.3)\n",
      "Requirement already satisfied: setuptools in c:\\users\\pvdung\\appdata\\local\\continuum\\anaconda3\\lib\\site-packages (from protobuf>=3.4.0->tensorflow==1.5) (40.0.0)\n",
      "Requirement already satisfied: markdown>=2.6.8 in c:\\users\\pvdung\\appdata\\local\\continuum\\anaconda3\\lib\\site-packages (from tensorflow-tensorboard<1.6.0,>=1.5.0->tensorflow==1.5) (2.6.11)\n",
      "Requirement already satisfied: werkzeug>=0.11.10 in c:\\users\\pvdung\\appdata\\local\\continuum\\anaconda3\\lib\\site-packages (from tensorflow-tensorboard<1.6.0,>=1.5.0->tensorflow==1.5) (0.14.1)\n",
      "Collecting bleach==1.5.0 (from tensorflow-tensorboard<1.6.0,>=1.5.0->tensorflow==1.5)\n",
      "  Downloading https://files.pythonhosted.org/packages/33/70/86c5fec937ea4964184d4d6c4f0b9551564f821e1c3575907639036d9b90/bleach-1.5.0-py2.py3-none-any.whl\n",
      "Collecting html5lib==0.9999999 (from tensorflow-tensorboard<1.6.0,>=1.5.0->tensorflow==1.5)\n",
      "  Downloading https://files.pythonhosted.org/packages/ae/ae/bcb60402c60932b32dfaf19bb53870b29eda2cd17551ba5639219fb5ebf9/html5lib-0.9999999.tar.gz (889kB)\n",
      "Building wheels for collected packages: html5lib\n",
      "  Running setup.py bdist_wheel for html5lib: started\n",
      "  Running setup.py bdist_wheel for html5lib: finished with status 'done'\n",
      "  Stored in directory: C:\\Users\\pvdung\\AppData\\Local\\pip\\Cache\\wheels\\50\\ae\\f9\\d2b189788efcf61d1ee0e36045476735c838898eef1cad6e29\n",
      "Successfully built html5lib\n",
      "Installing collected packages: html5lib, bleach, tensorflow-tensorboard, tensorflow\n",
      "  Found existing installation: html5lib 1.0.1\n",
      "    Uninstalling html5lib-1.0.1:\n",
      "      Successfully uninstalled html5lib-1.0.1\n",
      "  Found existing installation: bleach 2.1.3\n",
      "    Uninstalling bleach-2.1.3:\n",
      "      Successfully uninstalled bleach-2.1.3\n",
      "  Found existing installation: tensorflow 1.10.0\n",
      "    Uninstalling tensorflow-1.10.0:\n",
      "      Successfully uninstalled tensorflow-1.10.0\n",
      "Successfully installed bleach-1.5.0 html5lib-0.9999999 tensorflow-1.5.0 tensorflow-tensorboard-1.5.1\n"
     ]
    },
    {
     "name": "stderr",
     "output_type": "stream",
     "text": [
      "twisted 18.7.0 requires PyHamcrest>=1.9.0, which is not installed.\n"
     ]
    }
   ],
   "source": [
    "!pip install tensorflow==1.5"
   ]
  },
  {
   "cell_type": "code",
   "execution_count": null,
   "metadata": {},
   "outputs": [],
   "source": []
  }
 ],
 "metadata": {
  "kernelspec": {
   "display_name": "Python 3",
   "language": "python",
   "name": "python3"
  },
  "language_info": {
   "codemirror_mode": {
    "name": "ipython",
    "version": 3
   },
   "file_extension": ".py",
   "mimetype": "text/x-python",
   "name": "python",
   "nbconvert_exporter": "python",
   "pygments_lexer": "ipython3",
   "version": "3.5.5"
  },
  "widgets": {
   "state": {},
   "version": "1.1.2"
  }
 },
 "nbformat": 4,
 "nbformat_minor": 2
}
